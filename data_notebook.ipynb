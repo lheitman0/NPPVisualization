{
 "cells": [
  {
   "cell_type": "code",
   "execution_count": 5,
   "metadata": {},
   "outputs": [
    {
     "name": "stdout",
     "output_type": "stream",
     "text": [
      "Requirement already satisfied: twint in ./nea/lib/python3.11/site-packages (2.1.21)\n",
      "Requirement already satisfied: aiohttp in ./nea/lib/python3.11/site-packages (from twint) (3.9.1)\n",
      "Requirement already satisfied: aiodns in ./nea/lib/python3.11/site-packages (from twint) (3.1.1)\n",
      "Requirement already satisfied: beautifulsoup4 in ./nea/lib/python3.11/site-packages (from twint) (4.12.3)\n",
      "Requirement already satisfied: cchardet in ./nea/lib/python3.11/site-packages (from twint) (2.1.7)\n",
      "Requirement already satisfied: dataclasses in ./nea/lib/python3.11/site-packages (from twint) (0.6)\n",
      "Requirement already satisfied: elasticsearch in ./nea/lib/python3.11/site-packages (from twint) (8.12.0)\n",
      "Requirement already satisfied: pysocks in ./nea/lib/python3.11/site-packages (from twint) (1.7.1)\n",
      "Requirement already satisfied: pandas in ./nea/lib/python3.11/site-packages (from twint) (2.2.0)\n",
      "Requirement already satisfied: aiohttp-socks in ./nea/lib/python3.11/site-packages (from twint) (0.4.1)\n",
      "Requirement already satisfied: schedule in ./nea/lib/python3.11/site-packages (from twint) (1.2.1)\n",
      "Requirement already satisfied: geopy in ./nea/lib/python3.11/site-packages (from twint) (2.4.1)\n",
      "Requirement already satisfied: fake-useragent in ./nea/lib/python3.11/site-packages (from twint) (1.4.0)\n",
      "Requirement already satisfied: googletransx in ./nea/lib/python3.11/site-packages (from twint) (2.4.2)\n",
      "Requirement already satisfied: pycares>=4.0.0 in ./nea/lib/python3.11/site-packages (from aiodns->twint) (4.4.0)\n",
      "Requirement already satisfied: attrs>=17.3.0 in ./nea/lib/python3.11/site-packages (from aiohttp->twint) (23.2.0)\n",
      "Requirement already satisfied: multidict<7.0,>=4.5 in ./nea/lib/python3.11/site-packages (from aiohttp->twint) (6.0.4)\n",
      "Requirement already satisfied: yarl<2.0,>=1.0 in ./nea/lib/python3.11/site-packages (from aiohttp->twint) (1.9.4)\n",
      "Requirement already satisfied: frozenlist>=1.1.1 in ./nea/lib/python3.11/site-packages (from aiohttp->twint) (1.4.1)\n",
      "Requirement already satisfied: aiosignal>=1.1.2 in ./nea/lib/python3.11/site-packages (from aiohttp->twint) (1.3.1)\n",
      "Requirement already satisfied: soupsieve>1.2 in ./nea/lib/python3.11/site-packages (from beautifulsoup4->twint) (2.5)\n",
      "Requirement already satisfied: elastic-transport<9,>=8 in ./nea/lib/python3.11/site-packages (from elasticsearch->twint) (8.12.0)\n",
      "Requirement already satisfied: geographiclib<3,>=1.52 in ./nea/lib/python3.11/site-packages (from geopy->twint) (2.0)\n",
      "Requirement already satisfied: requests in ./nea/lib/python3.11/site-packages (from googletransx->twint) (2.31.0)\n",
      "Requirement already satisfied: numpy<2,>=1.23.2 in ./nea/lib/python3.11/site-packages (from pandas->twint) (1.26.3)\n",
      "Requirement already satisfied: python-dateutil>=2.8.2 in ./nea/lib/python3.11/site-packages (from pandas->twint) (2.8.2)\n",
      "Requirement already satisfied: pytz>=2020.1 in ./nea/lib/python3.11/site-packages (from pandas->twint) (2023.3.post1)\n",
      "Requirement already satisfied: tzdata>=2022.7 in ./nea/lib/python3.11/site-packages (from pandas->twint) (2023.4)\n",
      "Requirement already satisfied: urllib3<3,>=1.26.2 in ./nea/lib/python3.11/site-packages (from elastic-transport<9,>=8->elasticsearch->twint) (2.1.0)\n",
      "Requirement already satisfied: certifi in ./nea/lib/python3.11/site-packages (from elastic-transport<9,>=8->elasticsearch->twint) (2023.11.17)\n",
      "Requirement already satisfied: cffi>=1.5.0 in ./nea/lib/python3.11/site-packages (from pycares>=4.0.0->aiodns->twint) (1.16.0)\n",
      "Requirement already satisfied: six>=1.5 in ./nea/lib/python3.11/site-packages (from python-dateutil>=2.8.2->pandas->twint) (1.16.0)\n",
      "Requirement already satisfied: idna>=2.0 in ./nea/lib/python3.11/site-packages (from yarl<2.0,>=1.0->aiohttp->twint) (3.6)\n",
      "Requirement already satisfied: charset-normalizer<4,>=2 in ./nea/lib/python3.11/site-packages (from requests->googletransx->twint) (3.3.2)\n",
      "Requirement already satisfied: pycparser in ./nea/lib/python3.11/site-packages (from cffi>=1.5.0->pycares>=4.0.0->aiodns->twint) (2.21)\n"
     ]
    }
   ],
   "source": [
    "!pip3 install twint"
   ]
  },
  {
   "cell_type": "code",
   "execution_count": 6,
   "metadata": {},
   "outputs": [
    {
     "ename": "ImportError",
     "evalue": "cannot import name 'CeilTimeout' from 'aiohttp.helpers' (/Users/LukeHeitman/Desktop/getGood/NuclearEnergyAnalysis/nea/lib/python3.11/site-packages/aiohttp/helpers.py)",
     "output_type": "error",
     "traceback": [
      "\u001b[0;31m---------------------------------------------------------------------------\u001b[0m",
      "\u001b[0;31mImportError\u001b[0m                               Traceback (most recent call last)",
      "Cell \u001b[0;32mIn[6], line 2\u001b[0m\n\u001b[1;32m      1\u001b[0m \u001b[38;5;66;03m# Use twint to mine tweets with nuclear energy, related words\u001b[39;00m\n\u001b[0;32m----> 2\u001b[0m \u001b[38;5;28;01mimport\u001b[39;00m \u001b[38;5;21;01mtwint\u001b[39;00m\n\u001b[1;32m      4\u001b[0m c \u001b[38;5;241m=\u001b[39m twint\u001b[38;5;241m.\u001b[39mConfig()\n\u001b[1;32m      5\u001b[0m c\u001b[38;5;241m.\u001b[39mSearch \u001b[38;5;241m=\u001b[39m \u001b[38;5;124m\"\u001b[39m\u001b[38;5;124mnuclear energy OR nuclear power OR nuclear waste\u001b[39m\u001b[38;5;124m\"\u001b[39m\n",
      "File \u001b[0;32m~/Desktop/getGood/NuclearEnergyAnalysis/nea/lib/python3.11/site-packages/twint/__init__.py:14\u001b[0m\n\u001b[1;32m     12\u001b[0m \u001b[38;5;28;01mfrom\u001b[39;00m \u001b[38;5;21;01m.\u001b[39;00m\u001b[38;5;21;01mconfig\u001b[39;00m \u001b[38;5;28;01mimport\u001b[39;00m Config\n\u001b[1;32m     13\u001b[0m \u001b[38;5;28;01mfrom\u001b[39;00m \u001b[38;5;21;01m.\u001b[39;00m\u001b[38;5;21;01m__version__\u001b[39;00m \u001b[38;5;28;01mimport\u001b[39;00m __version__\n\u001b[0;32m---> 14\u001b[0m \u001b[38;5;28;01mfrom\u001b[39;00m \u001b[38;5;21;01m.\u001b[39;00m \u001b[38;5;28;01mimport\u001b[39;00m run\n\u001b[1;32m     16\u001b[0m _levels \u001b[38;5;241m=\u001b[39m {\n\u001b[1;32m     17\u001b[0m     \u001b[38;5;124m'\u001b[39m\u001b[38;5;124minfo\u001b[39m\u001b[38;5;124m'\u001b[39m: logging\u001b[38;5;241m.\u001b[39mINFO,\n\u001b[1;32m     18\u001b[0m     \u001b[38;5;124m'\u001b[39m\u001b[38;5;124mdebug\u001b[39m\u001b[38;5;124m'\u001b[39m: logging\u001b[38;5;241m.\u001b[39mDEBUG\n\u001b[1;32m     19\u001b[0m }\n\u001b[1;32m     21\u001b[0m _level \u001b[38;5;241m=\u001b[39m os\u001b[38;5;241m.\u001b[39mgetenv(\u001b[38;5;124m'\u001b[39m\u001b[38;5;124mTWINT_DEBUG\u001b[39m\u001b[38;5;124m'\u001b[39m, \u001b[38;5;124m'\u001b[39m\u001b[38;5;124minfo\u001b[39m\u001b[38;5;124m'\u001b[39m)\n",
      "File \u001b[0;32m~/Desktop/getGood/NuclearEnergyAnalysis/nea/lib/python3.11/site-packages/twint/run.py:4\u001b[0m\n\u001b[1;32m      1\u001b[0m \u001b[38;5;28;01mimport\u001b[39;00m \u001b[38;5;21;01msys\u001b[39;00m\u001b[38;5;241m,\u001b[39m \u001b[38;5;21;01mos\u001b[39;00m\u001b[38;5;241m,\u001b[39m \u001b[38;5;21;01mdatetime\u001b[39;00m\n\u001b[1;32m      2\u001b[0m \u001b[38;5;28;01mfrom\u001b[39;00m \u001b[38;5;21;01masyncio\u001b[39;00m \u001b[38;5;28;01mimport\u001b[39;00m get_event_loop, \u001b[38;5;167;01mTimeoutError\u001b[39;00m, ensure_future, new_event_loop, set_event_loop\n\u001b[0;32m----> 4\u001b[0m \u001b[38;5;28;01mfrom\u001b[39;00m \u001b[38;5;21;01m.\u001b[39;00m \u001b[38;5;28;01mimport\u001b[39;00m datelock, feed, get, output, verbose, storage\n\u001b[1;32m      5\u001b[0m \u001b[38;5;28;01mfrom\u001b[39;00m \u001b[38;5;21;01m.\u001b[39;00m\u001b[38;5;21;01mtoken\u001b[39;00m \u001b[38;5;28;01mimport\u001b[39;00m TokenExpiryException\n\u001b[1;32m      6\u001b[0m \u001b[38;5;28;01mfrom\u001b[39;00m \u001b[38;5;21;01m.\u001b[39;00m \u001b[38;5;28;01mimport\u001b[39;00m token\n",
      "File \u001b[0;32m~/Desktop/getGood/NuclearEnergyAnalysis/nea/lib/python3.11/site-packages/twint/get.py:12\u001b[0m\n\u001b[1;32m     10\u001b[0m \u001b[38;5;28;01mimport\u001b[39;00m \u001b[38;5;21;01mrandom\u001b[39;00m\n\u001b[1;32m     11\u001b[0m \u001b[38;5;28;01mfrom\u001b[39;00m \u001b[38;5;21;01mjson\u001b[39;00m \u001b[38;5;28;01mimport\u001b[39;00m loads, dumps\n\u001b[0;32m---> 12\u001b[0m \u001b[38;5;28;01mfrom\u001b[39;00m \u001b[38;5;21;01maiohttp_socks\u001b[39;00m \u001b[38;5;28;01mimport\u001b[39;00m ProxyConnector, ProxyType\n\u001b[1;32m     13\u001b[0m \u001b[38;5;28;01mfrom\u001b[39;00m \u001b[38;5;21;01murllib\u001b[39;00m\u001b[38;5;21;01m.\u001b[39;00m\u001b[38;5;21;01mparse\u001b[39;00m \u001b[38;5;28;01mimport\u001b[39;00m quote\n\u001b[1;32m     15\u001b[0m \u001b[38;5;28;01mfrom\u001b[39;00m \u001b[38;5;21;01m.\u001b[39;00m \u001b[38;5;28;01mimport\u001b[39;00m url\n",
      "File \u001b[0;32m~/Desktop/getGood/NuclearEnergyAnalysis/nea/lib/python3.11/site-packages/aiohttp_socks/__init__.py:5\u001b[0m\n\u001b[1;32m      2\u001b[0m __version__ \u001b[38;5;241m=\u001b[39m \u001b[38;5;124m'\u001b[39m\u001b[38;5;124m0.4.1\u001b[39m\u001b[38;5;124m'\u001b[39m\n\u001b[1;32m      4\u001b[0m \u001b[38;5;28;01mfrom\u001b[39;00m \u001b[38;5;21;01m.\u001b[39;00m\u001b[38;5;21;01mproxy\u001b[39;00m \u001b[38;5;28;01mimport\u001b[39;00m SocksVer, ProxyType\n\u001b[0;32m----> 5\u001b[0m \u001b[38;5;28;01mfrom\u001b[39;00m \u001b[38;5;21;01m.\u001b[39;00m\u001b[38;5;21;01mconnector\u001b[39;00m \u001b[38;5;28;01mimport\u001b[39;00m (\n\u001b[1;32m      6\u001b[0m     SocksConnector, ProxyConnector,\n\u001b[1;32m      7\u001b[0m     ChainProxyConnector, ProxyInfo\n\u001b[1;32m      8\u001b[0m )\n\u001b[1;32m      9\u001b[0m \u001b[38;5;28;01mfrom\u001b[39;00m \u001b[38;5;21;01m.\u001b[39;00m\u001b[38;5;21;01mutils\u001b[39;00m \u001b[38;5;28;01mimport\u001b[39;00m open_connection, create_connection\n\u001b[1;32m     10\u001b[0m \u001b[38;5;28;01mfrom\u001b[39;00m \u001b[38;5;21;01m.\u001b[39;00m\u001b[38;5;21;01mproxy\u001b[39;00m\u001b[38;5;21;01m.\u001b[39;00m\u001b[38;5;21;01merrors\u001b[39;00m \u001b[38;5;28;01mimport\u001b[39;00m (\n\u001b[1;32m     11\u001b[0m     ProxyError, ProxyConnectionError, ProxyTimeoutError,\n\u001b[1;32m     12\u001b[0m     SocksError, SocksConnectionError,\n\u001b[1;32m     13\u001b[0m )\n",
      "File \u001b[0;32m~/Desktop/getGood/NuclearEnergyAnalysis/nea/lib/python3.11/site-packages/aiohttp_socks/connector.py:8\u001b[0m\n\u001b[1;32m      6\u001b[0m \u001b[38;5;28;01mfrom\u001b[39;00m \u001b[38;5;21;01maiohttp\u001b[39;00m \u001b[38;5;28;01mimport\u001b[39;00m TCPConnector\n\u001b[1;32m      7\u001b[0m \u001b[38;5;28;01mfrom\u001b[39;00m \u001b[38;5;21;01maiohttp\u001b[39;00m\u001b[38;5;21;01m.\u001b[39;00m\u001b[38;5;21;01mabc\u001b[39;00m \u001b[38;5;28;01mimport\u001b[39;00m AbstractResolver\n\u001b[0;32m----> 8\u001b[0m \u001b[38;5;28;01mfrom\u001b[39;00m \u001b[38;5;21;01maiohttp\u001b[39;00m\u001b[38;5;21;01m.\u001b[39;00m\u001b[38;5;21;01mhelpers\u001b[39;00m \u001b[38;5;28;01mimport\u001b[39;00m CeilTimeout  \u001b[38;5;66;03m# noqa\u001b[39;00m\n\u001b[1;32m     10\u001b[0m \u001b[38;5;28;01mfrom\u001b[39;00m \u001b[38;5;21;01m.\u001b[39;00m\u001b[38;5;21;01mproxy\u001b[39;00m \u001b[38;5;28;01mimport\u001b[39;00m (ProxyType, SocksVer, ChainProxy,\n\u001b[1;32m     11\u001b[0m                     parse_proxy_url, create_proxy)\n\u001b[1;32m     14\u001b[0m \u001b[38;5;28;01mclass\u001b[39;00m \u001b[38;5;21;01mNoResolver\u001b[39;00m(AbstractResolver):\n",
      "\u001b[0;31mImportError\u001b[0m: cannot import name 'CeilTimeout' from 'aiohttp.helpers' (/Users/LukeHeitman/Desktop/getGood/NuclearEnergyAnalysis/nea/lib/python3.11/site-packages/aiohttp/helpers.py)"
     ]
    }
   ],
   "source": [
    "# Use twint to mine tweets with nuclear energy, related words\n",
    "import twint\n",
    "\n",
    "c = twint.Config()\n",
    "c.Search = \"nuclear energy OR nuclear power OR nuclear waste\"\n",
    "c.Since = \"2021-01-01\"  \n",
    "c.Until = \"2023-01-01\" \n",
    "c.Lang = \"en\"\n",
    "c.Limit = 3000  # number of tweets you want to scrape\n",
    "c.Format = \"ID: {id} | Date: {date} | Tweet {tweet}\"\n",
    "c.Store_csv = True \n",
    "c.Output = \"nea_tweets.csv\"\n",
    "\n",
    "\n",
    "twint.run.Search(c)"
   ]
  }
 ],
 "metadata": {
  "kernelspec": {
   "display_name": "nea",
   "language": "python",
   "name": "python3"
  },
  "language_info": {
   "codemirror_mode": {
    "name": "ipython",
    "version": 3
   },
   "file_extension": ".py",
   "mimetype": "text/x-python",
   "name": "python",
   "nbconvert_exporter": "python",
   "pygments_lexer": "ipython3",
   "version": "3.11.2"
  }
 },
 "nbformat": 4,
 "nbformat_minor": 2
}
